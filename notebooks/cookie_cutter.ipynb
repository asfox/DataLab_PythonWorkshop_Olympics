{
 "cells": [
  {
   "cell_type": "code",
   "execution_count": 4,
   "metadata": {},
   "outputs": [
    {
     "name": "stdout",
     "output_type": "stream",
     "text": [
      "Requirement already satisfied: cookiecutter in /Users/asfox/anaconda3/lib/python3.7/site-packages (1.7.0)\n",
      "Requirement already satisfied: future>=0.15.2 in /Users/asfox/anaconda3/lib/python3.7/site-packages (from cookiecutter) (0.17.1)\n",
      "Requirement already satisfied: jinja2-time>=0.1.0 in /Users/asfox/anaconda3/lib/python3.7/site-packages (from cookiecutter) (0.2.0)\n",
      "Requirement already satisfied: binaryornot>=0.2.0 in /Users/asfox/anaconda3/lib/python3.7/site-packages (from cookiecutter) (0.4.4)\n",
      "Requirement already satisfied: requests>=2.18.0 in /Users/asfox/anaconda3/lib/python3.7/site-packages (from cookiecutter) (2.22.0)\n",
      "Requirement already satisfied: whichcraft>=0.4.0 in /Users/asfox/anaconda3/lib/python3.7/site-packages (from cookiecutter) (0.6.1)\n",
      "Requirement already satisfied: jinja2>=2.7 in /Users/asfox/anaconda3/lib/python3.7/site-packages (from cookiecutter) (2.10.3)\n",
      "Requirement already satisfied: click>=7.0 in /Users/asfox/anaconda3/lib/python3.7/site-packages (from cookiecutter) (7.0)\n",
      "Requirement already satisfied: poyo>=0.1.0 in /Users/asfox/anaconda3/lib/python3.7/site-packages (from cookiecutter) (0.5.0)\n",
      "Requirement already satisfied: arrow in /Users/asfox/anaconda3/lib/python3.7/site-packages (from jinja2-time>=0.1.0->cookiecutter) (0.15.5)\n",
      "Requirement already satisfied: chardet>=3.0.2 in /Users/asfox/anaconda3/lib/python3.7/site-packages (from binaryornot>=0.2.0->cookiecutter) (3.0.4)\n",
      "Requirement already satisfied: certifi>=2017.4.17 in /Users/asfox/anaconda3/lib/python3.7/site-packages (from requests>=2.18.0->cookiecutter) (2019.9.11)\n",
      "Requirement already satisfied: idna<2.9,>=2.5 in /Users/asfox/anaconda3/lib/python3.7/site-packages (from requests>=2.18.0->cookiecutter) (2.8)\n",
      "Requirement already satisfied: urllib3!=1.25.0,!=1.25.1,<1.26,>=1.21.1 in /Users/asfox/anaconda3/lib/python3.7/site-packages (from requests>=2.18.0->cookiecutter) (1.24.2)\n",
      "Requirement already satisfied: MarkupSafe>=0.23 in /Users/asfox/anaconda3/lib/python3.7/site-packages (from jinja2>=2.7->cookiecutter) (1.1.1)\n",
      "Requirement already satisfied: python-dateutil in /Users/asfox/anaconda3/lib/python3.7/site-packages (from arrow->jinja2-time>=0.1.0->cookiecutter) (2.8.0)\n",
      "Requirement already satisfied: six>=1.5 in /Users/asfox/anaconda3/lib/python3.7/site-packages (from python-dateutil->arrow->jinja2-time>=0.1.0->cookiecutter) (1.12.0)\n"
     ]
    }
   ],
   "source": [
    "\n",
    "!pip install cookiecutter"
   ]
  },
  {
   "cell_type": "code",
   "execution_count": null,
   "metadata": {},
   "outputs": [
    {
     "name": "stdout",
     "output_type": "stream",
     "text": [
      "project_name [project_name]: "
     ]
    }
   ],
   "source": [
    "!cookiecutter https://github.com/drivendata/cookiecutter-data-science\n"
   ]
  },
  {
   "cell_type": "code",
   "execution_count": null,
   "metadata": {},
   "outputs": [],
   "source": []
  }
 ],
 "metadata": {
  "kernelspec": {
   "display_name": "Python 3",
   "language": "python",
   "name": "python3"
  },
  "language_info": {
   "codemirror_mode": {
    "name": "ipython",
    "version": 3
   },
   "file_extension": ".py",
   "mimetype": "text/x-python",
   "name": "python",
   "nbconvert_exporter": "python",
   "pygments_lexer": "ipython3",
   "version": "3.7.4"
  }
 },
 "nbformat": 4,
 "nbformat_minor": 4
}
