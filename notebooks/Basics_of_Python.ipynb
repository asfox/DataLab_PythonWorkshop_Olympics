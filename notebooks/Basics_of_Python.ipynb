{
 "cells": [
  {
   "cell_type": "markdown",
   "metadata": {
    "deletable": true,
    "editable": true
   },
   "source": [
    "## Python vs. Other languages"
   ]
  },
  {
   "cell_type": "markdown",
   "metadata": {
    "deletable": true,
    "editable": true
   },
   "source": [
    "**What is Python?**\n",
    "- Python is a \"fully functional language\" \n",
    "- Python can be run in interactive mode\n",
    "- Python has a bunch of packages which extend it's functionality\n",
    "- Python is \"object-oriented\"\n",
    "\n",
    "**Special things you need to know about python:**\n",
    "- Python is white-space based.\n",
    "- Python has data-types\n"
   ]
  },
  {
   "cell_type": "markdown",
   "metadata": {
    "deletable": true,
    "editable": true
   },
   "source": [
    "## Methods vs Values"
   ]
  },
  {
   "cell_type": "markdown",
   "metadata": {
    "deletable": true,
    "editable": true
   },
   "source": [
    "- most things in python are _objects_.\n",
    "- _values_ are the data that are stored in an object. \n",
    "- methods are the _functions_ that an object can perform\n",
    "\n",
    "\n",
    "It's probably best to learn by example... "
   ]
  },
  {
   "cell_type": "markdown",
   "metadata": {},
   "source": [
    "## Let's get started! "
   ]
  },
  {
   "cell_type": "code",
   "execution_count": null,
   "metadata": {},
   "outputs": [],
   "source": []
  },
  {
   "cell_type": "code",
   "execution_count": 4,
   "metadata": {},
   "outputs": [],
   "source": [
    "# a = 7\n",
    "# print(a)"
   ]
  },
  {
   "cell_type": "markdown",
   "metadata": {},
   "source": [
    "## You can get help in a number of ways... \n",
    "\n",
    "- **_Shift+Tab_** will give you help for where your cursor is. \n",
    "- In the **_Help_** menubar, you can enable a contextual help window. \n",
    "- You can type **help( _thing you want help with_ )**\n",
    "\n"
   ]
  },
  {
   "cell_type": "code",
   "execution_count": null,
   "metadata": {},
   "outputs": [],
   "source": []
  },
  {
   "cell_type": "markdown",
   "metadata": {},
   "source": [
    "# **This** is *markdown*\n",
    "\n",
    "You can type *whatever* here. \n"
   ]
  },
  {
   "cell_type": "markdown",
   "metadata": {
    "deletable": true,
    "editable": true
   },
   "source": [
    "## integers vs. floats\n",
    "data types in python"
   ]
  },
  {
   "cell_type": "code",
   "execution_count": null,
   "metadata": {},
   "outputs": [],
   "source": [
    "a"
   ]
  },
  {
   "cell_type": "code",
   "execution_count": null,
   "metadata": {
    "collapsed": false,
    "deletable": true,
    "editable": true,
    "jupyter": {
     "outputs_hidden": false
    }
   },
   "outputs": [],
   "source": [
    "# a = 1\n",
    "# print( type(a) )\n",
    "\n",
    "# b = 1.0\n",
    "# print( type(b) )\n",
    "\n",
    "# c = a/2\n",
    "# print( '->',c )\n",
    "\n",
    "# d = 2.0\n",
    "\n",
    "# e = 1/1.0\n",
    "# print( type(e) )\n",
    "\n",
    "# print( type(e) )\n"
   ]
  },
  {
   "cell_type": "markdown",
   "metadata": {
    "deletable": true,
    "editable": true
   },
   "source": [
    "variables aren't just values -- they are objects with methods."
   ]
  },
  {
   "cell_type": "code",
   "execution_count": null,
   "metadata": {},
   "outputs": [],
   "source": []
  },
  {
   "cell_type": "code",
   "execution_count": null,
   "metadata": {
    "collapsed": false,
    "deletable": true,
    "editable": true,
    "jupyter": {
     "outputs_hidden": false
    }
   },
   "outputs": [],
   "source": [
    "# print d.as_integer_ratio()\n",
    "# print d.is_integer()\n",
    "\n",
    "# print( d.is_integer(), e.is_integer() )\n",
    "# print( d.as_integer_ratio() )\n",
    "\n",
    "# f = 7/843843\n",
    "# print(f)\n",
    "# print( f.as_integer_ratio() )"
   ]
  },
  {
   "cell_type": "markdown",
   "metadata": {
    "deletable": true,
    "editable": true
   },
   "source": [
    "## strings, lists, & dicts\n",
    "indexing, named arrays, len()"
   ]
  },
  {
   "cell_type": "code",
   "execution_count": null,
   "metadata": {},
   "outputs": [],
   "source": []
  },
  {
   "cell_type": "code",
   "execution_count": null,
   "metadata": {},
   "outputs": [],
   "source": [
    "# my_string = 'abba is a band'\n",
    "# print(my_string)\n",
    "# print(type(my_string))\n",
    "# print( my_string.upper() )\n",
    "\n",
    "\n",
    "# my_list = ['abba', 'is', 'a', 'band']\n",
    "# print(my_list)\n",
    "# print(type(my_list))\n",
    "\n",
    "# print(my_string[3])\n",
    "# print(my_list[3])\n",
    "# print(my_list[2])\n",
    "\n",
    "# a = 1\n",
    "# b = 2\n",
    "# c = a+b\n",
    "# print(c)"
   ]
  },
  {
   "cell_type": "markdown",
   "metadata": {},
   "source": [
    "### Strings can be used like lists."
   ]
  },
  {
   "cell_type": "code",
   "execution_count": null,
   "metadata": {},
   "outputs": [],
   "source": []
  },
  {
   "cell_type": "code",
   "execution_count": null,
   "metadata": {
    "deletable": true,
    "editable": true
   },
   "outputs": [],
   "source": [
    "# my_string = 'this is a string'\n",
    "# my_list = ['this', 'is', 'a', 'list']\n",
    "\n",
    "# print( my_string )\n",
    "# print( my_list )\n",
    "\n",
    "# print( len(my_string) )\n",
    "# print( len(my_list) )\n",
    "\n",
    "# print( my_string.upper() )\n",
    "# # print( my_list.upper() )\n",
    "\n",
    "\n",
    "# print( my_string[1] )\n",
    "# print( my_list[1] )\n",
    "\n",
    "# print( my_string[:-5] )\n",
    "# print( my_list[2:] )"
   ]
  },
  {
   "cell_type": "markdown",
   "metadata": {},
   "source": [
    "### Dictionarys or Dicts are keyd lists. "
   ]
  },
  {
   "cell_type": "code",
   "execution_count": null,
   "metadata": {
    "deletable": true,
    "editable": true
   },
   "outputs": [],
   "source": [
    "# my_dict = { 0:'this', 1:'is', 2:'a', 3:'dict' }\n",
    "# print( my_dict )\n",
    "# print( my_dict[0] )\n",
    "\n",
    "# my_dict = { 'c':'this', 'b':'is', 'a':'a', 'd':'dict' }\n",
    "# print( my_dict )\n",
    "# print( my_dict['c'] )\n",
    "\n",
    "# print( type(my_dict['a']) )\n",
    "# print( my_dict['d'][-1] )"
   ]
  },
  {
   "cell_type": "markdown",
   "metadata": {
    "deletable": true,
    "editable": true
   },
   "source": [
    "### lists and dicts have methods\n",
    "\n",
    "Jupyter Lab has contextual help!"
   ]
  },
  {
   "cell_type": "code",
   "execution_count": null,
   "metadata": {},
   "outputs": [],
   "source": []
  },
  {
   "cell_type": "code",
   "execution_count": null,
   "metadata": {
    "collapsed": false,
    "deletable": true,
    "editable": true,
    "jupyter": {
     "outputs_hidden": false
    }
   },
   "outputs": [],
   "source": [
    "# print( my_string.upper() )\n",
    "# print( my_string.find('i') )\n",
    "\n",
    "# my_list = ['this', 'is', 'a', 'list']\n",
    "# print( my_list )\n",
    "# print( my_list.reverse() )\n",
    "# print( my_list )\n",
    "\n",
    "# my_dict = { 'a':'this', 'b':'is', 'c':'a', 'd':'list' }\n",
    "# print( my_dict.keys() )\n",
    "# print( my_dict.values() )"
   ]
  },
  {
   "cell_type": "markdown",
   "metadata": {
    "deletable": true,
    "editable": true
   },
   "source": [
    "## tuples\n",
    "kinda like lists"
   ]
  },
  {
   "cell_type": "markdown",
   "metadata": {
    "deletable": true,
    "editable": true
   },
   "source": [
    "1. tuples don't have methods\n",
    "2. tuples are faster than lists\n",
    "3. tuples are immutable "
   ]
  },
  {
   "cell_type": "markdown",
   "metadata": {
    "deletable": true,
    "editable": true
   },
   "source": [
    "vs. lists"
   ]
  },
  {
   "cell_type": "code",
   "execution_count": null,
   "metadata": {},
   "outputs": [],
   "source": [
    "# my_list = ['string', 1]\n",
    "# print( my_list )\n",
    "# print( type(my_list[1]) )\n",
    "# print( type(my_list) )\n",
    "\n",
    "# my_list.append('this')\n",
    "# print( my_list )"
   ]
  },
  {
   "cell_type": "code",
   "execution_count": null,
   "metadata": {
    "deletable": true,
    "editable": true,
    "scrolled": true
   },
   "outputs": [],
   "source": [
    "# my_tuple = ('string', 1)\n",
    "# print( my_tuple )\n",
    "# print( type(my_tuple[1]) )\n",
    "# print( type(my_tuple) )\n",
    "\n",
    "# my_tuple.append('this')\n",
    "# print( my_tuple )\n"
   ]
  },
  {
   "cell_type": "code",
   "execution_count": null,
   "metadata": {
    "collapsed": false,
    "deletable": true,
    "editable": true,
    "jupyter": {
     "outputs_hidden": false
    }
   },
   "outputs": [],
   "source": [
    "# my_dict = ('string', 1)\n",
    "# print( my_dict )\n",
    "# print( type(my_dict[1]) )\n",
    "# print( type(my_dict) )\n",
    "# my_dict.append('this')\n",
    "# print( my_dict )"
   ]
  },
  {
   "cell_type": "markdown",
   "metadata": {
    "deletable": true,
    "editable": true
   },
   "source": [
    "## For loops, while loops\n",
    "also enumerate"
   ]
  },
  {
   "cell_type": "code",
   "execution_count": null,
   "metadata": {
    "deletable": true,
    "editable": true
   },
   "outputs": [],
   "source": [
    "\n"
   ]
  },
  {
   "cell_type": "code",
   "execution_count": null,
   "metadata": {
    "collapsed": false,
    "deletable": true,
    "editable": true,
    "jupyter": {
     "outputs_hidden": false
    }
   },
   "outputs": [],
   "source": [
    "# i = 1\n",
    "# while i < 10:\n",
    "#     print( i )\n",
    "#     i = i+1"
   ]
  },
  {
   "cell_type": "code",
   "execution_count": null,
   "metadata": {
    "collapsed": false,
    "deletable": true,
    "editable": true,
    "jupyter": {
     "outputs_hidden": false
    }
   },
   "outputs": [],
   "source": [
    "# for i in range(1,10):\n",
    "#     print( i )"
   ]
  },
  {
   "cell_type": "code",
   "execution_count": null,
   "metadata": {
    "collapsed": false,
    "deletable": true,
    "editable": true,
    "jupyter": {
     "outputs_hidden": false
    }
   },
   "outputs": [],
   "source": [
    "# print( my_list )\n",
    "\n",
    "# for item in my_list:\n",
    "#     print( '-> ',item)\n",
    "    \n",
    "# for i, item in enumerate(my_list):\n",
    "#     print( i,'-> ',item )"
   ]
  },
  {
   "cell_type": "markdown",
   "metadata": {
    "deletable": true,
    "editable": true
   },
   "source": [
    "## Importing packages to extend python's functionality\n",
    "Python really doesn't _do_ much that you'd probably want on it's own... packages can be imported so that you can use their _methods_. "
   ]
  },
  {
   "cell_type": "code",
   "execution_count": null,
   "metadata": {
    "deletable": true,
    "editable": true
   },
   "outputs": [],
   "source": [
    "import pandas as pd\n",
    "import matplotlib.pyplot as plt\n",
    "import seaborn as sns"
   ]
  },
  {
   "cell_type": "code",
   "execution_count": null,
   "metadata": {},
   "outputs": [],
   "source": [
    "# x = range(1,10)\n",
    "# y = range(2,11)\n",
    "# z = plt.plot(x,y, title='shazam')[0]\n",
    "# # plt.title('abba')\n",
    "# plt.xlabel('x')\n"
   ]
  },
  {
   "cell_type": "code",
   "execution_count": null,
   "metadata": {},
   "outputs": [],
   "source": [
    "# show anatomy of a figure, and see how it relates to \"type\""
   ]
  },
  {
   "cell_type": "code",
   "execution_count": null,
   "metadata": {
    "collapsed": false,
    "jupyter": {
     "outputs_hidden": false
    }
   },
   "outputs": [],
   "source": [
    "# print( type(np) )\n",
    "# print( type(pd) )"
   ]
  },
  {
   "cell_type": "code",
   "execution_count": null,
   "metadata": {
    "deletable": true,
    "editable": true
   },
   "outputs": [],
   "source": [
    "# import numpy as np\n",
    "# import pandas as pd\n",
    "# import matplotlib.plt as plt\n",
    "# import seaborn as sns\n"
   ]
  }
 ],
 "metadata": {
  "kernelspec": {
   "display_name": "Python 3",
   "language": "python",
   "name": "python3"
  },
  "language_info": {
   "codemirror_mode": {
    "name": "ipython",
    "version": 3
   },
   "file_extension": ".py",
   "mimetype": "text/x-python",
   "name": "python",
   "nbconvert_exporter": "python",
   "pygments_lexer": "ipython3",
   "version": "3.7.3"
  },
  "widgets": {
   "state": {},
   "version": "1.1.2"
  }
 },
 "nbformat": 4,
 "nbformat_minor": 4
}
