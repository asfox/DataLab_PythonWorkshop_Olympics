{
 "cells": [
  {
   "cell_type": "markdown",
   "metadata": {},
   "source": [
    "# Some advanced things that you can do in Python. "
   ]
  },
  {
   "cell_type": "markdown",
   "metadata": {},
   "source": [
    "First import packages you'll be using. \n",
    "\n",
    "For this portion, I'm going to feature [statsmodels](https://www.statsmodels.org/stable/index.html), [Altair](https://altair-viz.github.io), and [Geopandas](https://geopandas.org).\n",
    "- Statsmodels is a packages that can do R-like formula statistics. I'll just be showing you an OLS linear regression. \n",
    "- Altair is still a work-in-progress, but it has some great features, as you will see. \n",
    "- Geopandas will allow you to easily plot a dataframe that has geospatial data."
   ]
  },
  {
   "cell_type": "code",
   "execution_count": null,
   "metadata": {},
   "outputs": [],
   "source": [
    "import pandas as pd\n",
    "import numpy as np\n",
    "import altair as alt\n",
    "\n",
    "import statsmodels.formula.api as smf\n",
    "import re as re"
   ]
  },
  {
   "cell_type": "markdown",
   "metadata": {},
   "source": [
    "Load our processed data."
   ]
  },
  {
   "cell_type": "code",
   "execution_count": null,
   "metadata": {},
   "outputs": [],
   "source": [
    "df = pd.read_csv('../data/processed/merged_winner_pop_gdp.csv')"
   ]
  },
  {
   "cell_type": "markdown",
   "metadata": {},
   "source": [
    "Check and clean our data"
   ]
  },
  {
   "cell_type": "code",
   "execution_count": null,
   "metadata": {},
   "outputs": [],
   "source": [
    "for col in df.columns:\n",
    "    print(col, df[col].dtype)"
   ]
  },
  {
   "cell_type": "code",
   "execution_count": null,
   "metadata": {},
   "outputs": [],
   "source": [
    "df.head()"
   ]
  },
  {
   "cell_type": "markdown",
   "metadata": {},
   "source": [
    "### Add some new variables. "
   ]
  },
  {
   "cell_type": "code",
   "execution_count": null,
   "metadata": {},
   "outputs": [],
   "source": [
    "df['GDP (in log10 billions)'] = np.log10(df['GDP']/1000000000.0)\n",
    "df['Population (in log10 billions)'] = np.log10(df['Population']/1000000000.0)\n",
    "df['Total Medals (log10)'] = np.log10(df['Total Medals'])"
   ]
  },
  {
   "cell_type": "markdown",
   "metadata": {},
   "source": [
    "# Run some stats with statsmodels"
   ]
  },
  {
   "cell_type": "markdown",
   "metadata": {},
   "source": [
    "Statsmodels formule don't deal well with special characters and spaces... "
   ]
  },
  {
   "cell_type": "code",
   "execution_count": null,
   "metadata": {},
   "outputs": [],
   "source": [
    "df_smf = df.rename(columns=lambda x: re.sub('[^\\w\\s]','',x))\n",
    "df_smf = df_smf.rename(columns=lambda x: re.sub('[\\s]','',x))\n"
   ]
  },
  {
   "cell_type": "code",
   "execution_count": null,
   "metadata": {},
   "outputs": [],
   "source": [
    "df_smf.head()"
   ]
  },
  {
   "cell_type": "code",
   "execution_count": null,
   "metadata": {},
   "outputs": [],
   "source": [
    "model = smf.ols('TotalMedalslog10 ~ GDPinlog10billions * Populationinlog10billions', data=df_smf)\n",
    "results = model.fit()\n",
    "results.summary()"
   ]
  },
  {
   "cell_type": "markdown",
   "metadata": {},
   "source": [
    "#### The bad news is that, unlike R, the plotting and statistical packages don't talk to each other.\n",
    "\n",
    "This means that in order to plot this interaction, you will have to create the variables you want to plot, e.g. residualized variables and whatnot."
   ]
  },
  {
   "cell_type": "markdown",
   "metadata": {},
   "source": [
    "***\n",
    "\n",
    "\n",
    "# Make some plots with Altair."
   ]
  },
  {
   "cell_type": "markdown",
   "metadata": {},
   "source": [
    "Make a basic plot. \n",
    "\n",
    "Each Altair plot is a chart that has _data_, some kind of _mark_, and _ecodes_ some variables on its axes. "
   ]
  },
  {
   "cell_type": "code",
   "execution_count": null,
   "metadata": {},
   "outputs": [],
   "source": [
    "alt.Chart(df[df['Year']==1992]).mark_circle(\n",
    "        color='red',\n",
    "        size=100,\n",
    "        opacity=0.3\n",
    "    ).encode(\n",
    "        x='Total Medals',\n",
    "        y='GDP (in log10 billions)',\n",
    "    )"
   ]
  },
  {
   "cell_type": "markdown",
   "metadata": {},
   "source": [
    "The beauty of altair is that it's quite easy to add interactivity. "
   ]
  },
  {
   "cell_type": "code",
   "execution_count": null,
   "metadata": {},
   "outputs": [],
   "source": [
    "alt.Chart(df[df['Year']==1992]).mark_circle(\n",
    "        color='red',\n",
    "        size=100,\n",
    "        opacity=0.3\n",
    "    ).encode(\n",
    "        x='Total Medals',\n",
    "        y='GDP (in log10 billions)',\n",
    "        tooltip=['Team', 'Year', 'Gold', 'Silver', 'Bronze'] # so that we get a mouseover. \n",
    "    )"
   ]
  },
  {
   "cell_type": "markdown",
   "metadata": {},
   "source": [
    "Altair provides some interactivity that get's _pretty fancy._\n",
    "\n",
    "Here, I'm adding a second plot and a selector element. "
   ]
  },
  {
   "cell_type": "code",
   "execution_count": null,
   "metadata": {},
   "outputs": [],
   "source": [
    "# create a selector \n",
    "selector = alt.selection_single(empty='all', fields=['Team'])\n",
    "\n",
    "# shared base\n",
    "base = alt.Chart(df).properties(\n",
    "    width=250,\n",
    "    height=250\n",
    ").add_selection(selector)\n",
    "\n",
    "# plot #1, much like before. \n",
    "points = base.mark_point(filled=True, \n",
    "        opacity=0.3,\n",
    "        size=200).encode(\n",
    "    x='Total Medals (log10)',\n",
    "    y='GDP (in log10 billions)',\n",
    "    tooltip=['Team', 'Year', 'Gold', 'Silver', 'Bronze'],\n",
    "    color=alt.condition(selector, 'Team:O', alt.value('lightgray'), legend=None)\n",
    "    # ^^ this line adds a conditional color, which depends on the selector. \n",
    ")\n",
    "\n",
    "# plot #2, encodes year and medals, \n",
    "# It has a transform filter that depends on the selector. \n",
    "timeseries = base.mark_line().encode(\n",
    "    x='Year:O', # the :O means treat this as ordinal, rather than numerical. \n",
    "    y='Total Medals',\n",
    "    color=alt.Color('Team:O', scale=alt.Scale(scheme='sinebow'), legend=None)\n",
    ").transform_filter(\n",
    "    selector\n",
    ").add_selection(selector)\n",
    "\n",
    "# plot the two plots next to each other!\n",
    "# Altair requires you return to jupyter the plot that you have made. \n",
    "#     This means, the last line in your cell needs to be the plot. \n",
    "points | timeseries "
   ]
  },
  {
   "cell_type": "markdown",
   "metadata": {},
   "source": [
    "### Save plot as html file. "
   ]
  },
  {
   "cell_type": "code",
   "execution_count": null,
   "metadata": {},
   "outputs": [],
   "source": [
    "(points | timeseries).save('../reports/figures/Medals_vs_GDP_byYear.html', embed_options={'renderer':'svg'})\n",
    "\n"
   ]
  },
  {
   "cell_type": "markdown",
   "metadata": {},
   "source": [
    "# Challenge:\n",
    "\n",
    "    What's up with 1992? "
   ]
  },
  {
   "cell_type": "markdown",
   "metadata": {},
   "source": [
    "***\n",
    "\n",
    "# Geopandas"
   ]
  },
  {
   "cell_type": "markdown",
   "metadata": {},
   "source": [
    "This can be a pain to install, so I didn't include the imports above. If you want to get it going, you will have to run:\n",
    "```\n",
    "pip install geopandas\n",
    "```\n",
    "\n",
    "Depending on your python installation, it may fail. "
   ]
  },
  {
   "cell_type": "code",
   "execution_count": null,
   "metadata": {},
   "outputs": [],
   "source": [
    "import matplotlib.pyplot as plt\n",
    "import geopandas as gpd\n"
   ]
  },
  {
   "cell_type": "markdown",
   "metadata": {},
   "source": [
    "### Load the data"
   ]
  },
  {
   "cell_type": "code",
   "execution_count": null,
   "metadata": {},
   "outputs": [],
   "source": [
    "df_world = gpd.read_file(gpd.datasets.get_path('naturalearth_lowres'))"
   ]
  },
  {
   "cell_type": "code",
   "execution_count": null,
   "metadata": {},
   "outputs": [],
   "source": [
    "df_world.head()"
   ]
  },
  {
   "cell_type": "markdown",
   "metadata": {},
   "source": [
    "### Manipulate the data\n",
    "I happened to notice that \"United States of America\" is not the same as \"United States\""
   ]
  },
  {
   "cell_type": "code",
   "execution_count": null,
   "metadata": {},
   "outputs": [],
   "source": [
    "df_world['name'] = df_world['name'].replace(\"United States of America\", \"United States\")"
   ]
  },
  {
   "cell_type": "markdown",
   "metadata": {},
   "source": [
    "### merge the geographic data with our olympic dataframe. "
   ]
  },
  {
   "cell_type": "code",
   "execution_count": null,
   "metadata": {},
   "outputs": [],
   "source": [
    "df_world_olympics = df_world.merge(df.groupby('Country').sum(), left_on=\"name\", right_on=\"Country\", how='inner')"
   ]
  },
  {
   "cell_type": "code",
   "execution_count": null,
   "metadata": {},
   "outputs": [],
   "source": [
    "# df_world_olympics.head()\n",
    "# print(df_world_olympics.columns)\n",
    "# print(df_world_olympics['name'].unique())"
   ]
  },
  {
   "cell_type": "code",
   "execution_count": null,
   "metadata": {},
   "outputs": [],
   "source": [
    "df_world_olympics.head()"
   ]
  },
  {
   "cell_type": "markdown",
   "metadata": {},
   "source": [
    "### Make the geo-plot"
   ]
  },
  {
   "cell_type": "code",
   "execution_count": null,
   "metadata": {},
   "outputs": [],
   "source": [
    "f, ax = plt.subplots(1,1,figsize=(16,4))\n",
    "df_world_olympics.plot('Total Medals (log10)', legend=True, ax=ax, \n",
    "                        legend_kwds={'label': \"Total Medals (log10)\"})\n",
    "plt.axis('off');\n",
    "\n",
    "plt.savefig('../reports/figures/TotalMedals_map.pdf', bbox_inches = \"tight\")\n"
   ]
  },
  {
   "cell_type": "markdown",
   "metadata": {},
   "source": [
    "# Challenge:\n",
    "\n",
    "Can you make this plot for Medals won in 1992? \n",
    "\n",
    "(hint: you will need to create the right dataframe)"
   ]
  },
  {
   "cell_type": "code",
   "execution_count": null,
   "metadata": {},
   "outputs": [],
   "source": []
  }
 ],
 "metadata": {
  "kernelspec": {
   "display_name": "Python 3",
   "language": "python",
   "name": "python3"
  },
  "language_info": {
   "codemirror_mode": {
    "name": "ipython",
    "version": 3
   },
   "file_extension": ".py",
   "mimetype": "text/x-python",
   "name": "python",
   "nbconvert_exporter": "python",
   "pygments_lexer": "ipython3",
   "version": "3.7.4"
  }
 },
 "nbformat": 4,
 "nbformat_minor": 4
}
